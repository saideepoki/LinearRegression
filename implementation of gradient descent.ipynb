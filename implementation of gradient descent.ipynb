{
 "cells": [
  {
   "cell_type": "code",
   "execution_count": 41,
   "id": "586f434f",
   "metadata": {},
   "outputs": [],
   "source": [
    "import numpy as np"
   ]
  },
  {
   "cell_type": "code",
   "execution_count": 42,
   "id": "46980057",
   "metadata": {},
   "outputs": [],
   "source": [
    "data = np.loadtxt(r\"C:\\Users\\Saideep\\Downloads\\0000000000000849\\data.csv\",delimiter = \",\")"
   ]
  },
  {
   "cell_type": "code",
   "execution_count": 43,
   "id": "5a5173e7",
   "metadata": {},
   "outputs": [],
   "source": [
    "def step_gradient(data,learning_rate,m,c):\n",
    "    m_slope = 0\n",
    "    c_slope = 0\n",
    "    M = len(data)\n",
    "    for i in range(M):\n",
    "        x = data[i,0]\n",
    "        y = data[i,1]\n",
    "        m_slope += (-2/M)*(y-m*x-c)*(x)\n",
    "        c_slope += (-2/M)*(y-m*x-c)\n",
    "    m = m - learning_rate*m_slope\n",
    "    c = c - learning_rate*c_slope\n",
    "    return m,c\n",
    "        "
   ]
  },
  {
   "cell_type": "code",
   "execution_count": 44,
   "id": "776c0fd8",
   "metadata": {},
   "outputs": [],
   "source": [
    "def costFunction(data,m,c):\n",
    "    M = len(data)\n",
    "    cost = 0\n",
    "    for i in range(M):\n",
    "        x = data[i,0]\n",
    "        y = data[i,1]\n",
    "        cost += (1/M)*((y - (m*x + c))**2)\n",
    "    return cost\n",
    "    "
   ]
  },
  {
   "cell_type": "code",
   "execution_count": 45,
   "id": "745344cb",
   "metadata": {},
   "outputs": [],
   "source": [
    "def gradientDescent(data,learning_rate,num_iterations):\n",
    "    m = 0\n",
    "    c = 0\n",
    "    for i in range(num_iterations):\n",
    "        m,c = step_gradient(data,learning_rate,m,c)\n",
    "        print(\"Cost: \",costFunction(data,m,c))\n",
    "    return m,c\n",
    "        "
   ]
  },
  {
   "cell_type": "code",
   "execution_count": 46,
   "id": "19f63be7",
   "metadata": {},
   "outputs": [],
   "source": [
    "def run():\n",
    "    learning_rate = 0.0001\n",
    "    num_iterations = 100\n",
    "    m,c = gradientDescent(data,learning_rate,num_iterations)\n",
    "    print(m,c)"
   ]
  },
  {
   "cell_type": "code",
   "execution_count": 47,
   "id": "b17d995a",
   "metadata": {},
   "outputs": [
    {
     "name": "stdout",
     "output_type": "stream",
     "text": [
      "Cost:  1484.5865574086483\n",
      "Cost:  457.8542575737672\n",
      "Cost:  199.5099857255389\n",
      "Cost:  134.50591058200533\n",
      "Cost:  118.14969342239951\n",
      "Cost:  114.03414906038147\n",
      "Cost:  112.99857731713661\n",
      "Cost:  112.73798187568467\n",
      "Cost:  112.67238435909104\n",
      "Cost:  112.65585181499745\n",
      "Cost:  112.65166489759584\n",
      "Cost:  112.65058436150112\n",
      "Cost:  112.65028544701502\n",
      "Cost:  112.65018320293967\n",
      "Cost:  112.65013044507197\n",
      "Cost:  112.65009013922885\n",
      "Cost:  112.65005296694632\n",
      "Cost:  112.65001658353178\n",
      "Cost:  112.64998039901862\n",
      "Cost:  112.64994426496071\n",
      "Cost:  112.6499081440062\n",
      "Cost:  112.64987202675678\n",
      "Cost:  112.64983591084761\n",
      "Cost:  112.64979979568368\n",
      "Cost:  112.64976368111523\n",
      "Cost:  112.64972756710468\n",
      "Cost:  112.6496914536424\n",
      "Cost:  112.64965534072608\n",
      "Cost:  112.64961922835515\n",
      "Cost:  112.6495831165294\n",
      "Cost:  112.64954700524869\n",
      "Cost:  112.64951089451318\n",
      "Cost:  112.64947478432278\n",
      "Cost:  112.64943867467743\n",
      "Cost:  112.64940256557729\n",
      "Cost:  112.64936645702217\n",
      "Cost:  112.64933034901205\n",
      "Cost:  112.64929424154703\n",
      "Cost:  112.64925813462712\n",
      "Cost:  112.64922202825217\n",
      "Cost:  112.64918592242236\n",
      "Cost:  112.64914981713753\n",
      "Cost:  112.64911371239779\n",
      "Cost:  112.64907760820296\n",
      "Cost:  112.64904150455324\n",
      "Cost:  112.64900540144849\n",
      "Cost:  112.64896929888867\n",
      "Cost:  112.64893319687388\n",
      "Cost:  112.64889709540411\n",
      "Cost:  112.64886099447924\n",
      "Cost:  112.64882489409929\n",
      "Cost:  112.64878879426433\n",
      "Cost:  112.64875269497435\n",
      "Cost:  112.64871659622932\n",
      "Cost:  112.64868049802914\n",
      "Cost:  112.64864440037398\n",
      "Cost:  112.64860830326366\n",
      "Cost:  112.64857220669825\n",
      "Cost:  112.64853611067775\n",
      "Cost:  112.64850001520209\n",
      "Cost:  112.6484639202713\n",
      "Cost:  112.64842782588545\n",
      "Cost:  112.64839173204442\n",
      "Cost:  112.6483556387483\n",
      "Cost:  112.64831954599693\n",
      "Cost:  112.64828345379044\n",
      "Cost:  112.64824736212877\n",
      "Cost:  112.64821127101193\n",
      "Cost:  112.64817518043985\n",
      "Cost:  112.64813909041263\n",
      "Cost:  112.64810300093013\n",
      "Cost:  112.64806691199259\n",
      "Cost:  112.64803082359968\n",
      "Cost:  112.64799473575162\n",
      "Cost:  112.64795864844827\n",
      "Cost:  112.64792256168967\n",
      "Cost:  112.64788647547574\n",
      "Cost:  112.6478503898067\n",
      "Cost:  112.64781430468224\n",
      "Cost:  112.64777822010265\n",
      "Cost:  112.64774213606768\n",
      "Cost:  112.64770605257743\n",
      "Cost:  112.64766996963188\n",
      "Cost:  112.64763388723105\n",
      "Cost:  112.64759780537484\n",
      "Cost:  112.64756172406332\n",
      "Cost:  112.6475256432965\n",
      "Cost:  112.64748956307432\n",
      "Cost:  112.64745348339676\n",
      "Cost:  112.64741740426386\n",
      "Cost:  112.6473813256756\n",
      "Cost:  112.64734524763196\n",
      "Cost:  112.64730917013293\n",
      "Cost:  112.6472730931785\n",
      "Cost:  112.64723701676861\n",
      "Cost:  112.64720094090339\n",
      "Cost:  112.64716486558268\n",
      "Cost:  112.64712879080662\n",
      "Cost:  112.64709271657509\n",
      "Cost:  112.64705664288806\n",
      "1.4788027175308358 0.035074970592341756\n"
     ]
    }
   ],
   "source": [
    "run()"
   ]
  },
  {
   "cell_type": "markdown",
   "id": "bc35ba73",
   "metadata": {},
   "source": [
    "# We can notice that the cost is changing barely wrt 112 and thus 0.0001 is the optimal learning rate in this case and we get optimal values of m and c"
   ]
  }
 ],
 "metadata": {
  "kernelspec": {
   "display_name": "Python 3 (ipykernel)",
   "language": "python",
   "name": "python3"
  },
  "language_info": {
   "codemirror_mode": {
    "name": "ipython",
    "version": 3
   },
   "file_extension": ".py",
   "mimetype": "text/x-python",
   "name": "python",
   "nbconvert_exporter": "python",
   "pygments_lexer": "ipython3",
   "version": "3.9.12"
  }
 },
 "nbformat": 4,
 "nbformat_minor": 5
}
