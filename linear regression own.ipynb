{
 "cells": [
  {
   "cell_type": "code",
   "execution_count": 1,
   "id": "6094b199",
   "metadata": {},
   "outputs": [],
   "source": [
    "import numpy as np"
   ]
  },
  {
   "cell_type": "code",
   "execution_count": 2,
   "id": "3747c0a3",
   "metadata": {},
   "outputs": [],
   "source": [
    "data = np.loadtxt(r\"C:\\Users\\Saideep\\Downloads\\data.csv\",delimiter = \",\")"
   ]
  },
  {
   "cell_type": "code",
   "execution_count": 3,
   "id": "b51caf0e",
   "metadata": {},
   "outputs": [
    {
     "data": {
      "text/plain": [
       "(100,)"
      ]
     },
     "execution_count": 3,
     "metadata": {},
     "output_type": "execute_result"
    }
   ],
   "source": [
    "X = data[:,0] ## as We're implementing linear regression only for 1-d data without reshaping it will work\n",
    "Y = data[:,1]\n",
    "X.shape"
   ]
  },
  {
   "cell_type": "markdown",
   "id": "bec5dc6a",
   "metadata": {},
   "source": [
    "# Splitting the data into train and test"
   ]
  },
  {
   "cell_type": "code",
   "execution_count": 4,
   "id": "195ef367",
   "metadata": {},
   "outputs": [],
   "source": [
    "from sklearn import model_selection"
   ]
  },
  {
   "cell_type": "code",
   "execution_count": 5,
   "id": "2a69ab9b",
   "metadata": {},
   "outputs": [],
   "source": [
    "X_train,X_test,Y_train,Y_test = model_selection.train_test_split(X,Y);"
   ]
  },
  {
   "cell_type": "markdown",
   "id": "33649d51",
   "metadata": {},
   "source": [
    "# Completing fit, predict, score using the formulas"
   ]
  },
  {
   "cell_type": "code",
   "execution_count": 6,
   "id": "e43b1de3",
   "metadata": {},
   "outputs": [],
   "source": [
    "## fit\n",
    "def fit(x_train,y_train):\n",
    "    \"\"\"\n",
    "    From the sqaured error(i.e the cost function) we basically derivate it and equate to 0 to get the equation \n",
    "    of m and c parameters which are actually used to predict the test data.Using those equations we will return m and c\n",
    "    \"\"\"\n",
    "    num = (x_train*y_train).mean() - x_train.mean()*y_train.mean()\n",
    "    den = (x_train**2).mean() - x_train.mean()**2\n",
    "    m = num/den\n",
    "    c = y_train.mean() - m*x_train.mean()\n",
    "    return m,c"
   ]
  },
  {
   "cell_type": "code",
   "execution_count": 7,
   "id": "6a7a33c5",
   "metadata": {},
   "outputs": [],
   "source": [
    "## predict and score\n",
    "def predict(x,m,c):\n",
    "    \"\"\"\n",
    "    After we have the values of m, c we the linear line using y = m*x + c.\n",
    "    As m, c are values which minimize the cost/error function they will produce the best fit line\n",
    "    \"\"\"\n",
    "    return m*x + c\n",
    "\n",
    "def score(y_truth,y_pred):\n",
    "    \"\"\"\n",
    "    score is calculate by comparing the squared error of truth and predicted value with squared error of truth and its mean.\n",
    "    This is to compare how worse the predicted value is compared to mean\n",
    "    \"\"\"\n",
    "    u = ((y_truth - y_pred)**2).sum()\n",
    "    v = ((y_truth - y_truth.mean())**2).sum()\n",
    "    return 1 - u/v"
   ]
  },
  {
   "cell_type": "code",
   "execution_count": 8,
   "id": "8c74668b",
   "metadata": {},
   "outputs": [
    {
     "data": {
      "text/plain": [
       "(1.2325947652722486, 12.23861788121021)"
      ]
     },
     "execution_count": 8,
     "metadata": {},
     "output_type": "execute_result"
    }
   ],
   "source": [
    "## fitting the training data\n",
    "m,c = fit(X_train,Y_train)\n",
    "m,c"
   ]
  },
  {
   "cell_type": "code",
   "execution_count": 9,
   "id": "a474d2cd",
   "metadata": {},
   "outputs": [
    {
     "name": "stdout",
     "output_type": "stream",
     "text": [
      "Score on training data:  0.5618076971129533\n",
      "Score on testing data:  0.6817755852745025\n"
     ]
    }
   ],
   "source": [
    "y_train_pred = predict(X_train,m,c)\n",
    "print(\"Score on training data: \",score(Y_train,y_train_pred))\n",
    "y_test_pred = predict(X_test,m,c)\n",
    "print(\"Score on testing data: \",score(Y_test,y_test_pred))"
   ]
  },
  {
   "cell_type": "markdown",
   "id": "917e1c75",
   "metadata": {},
   "source": [
    "# Cost function"
   ]
  },
  {
   "cell_type": "code",
   "execution_count": 15,
   "id": "6e524fb2",
   "metadata": {},
   "outputs": [],
   "source": [
    "def cost(x,y,m,c):\n",
    "    \"\"\"\n",
    "    Just implementing the cost function formulae which is \n",
    "    nothing but the mean of squared error\n",
    "    usually it is ((y - (m*x + c))**2).sum() \n",
    "    can also be ((y - (m*x + c))**2).mean() not much of a difference \n",
    "    \"\"\"\n",
    "    return ((y - (m*x + c))**2).mean() "
   ]
  },
  {
   "cell_type": "code",
   "execution_count": 16,
   "id": "5b6b5b1f",
   "metadata": {},
   "outputs": [
    {
     "name": "stdout",
     "output_type": "stream",
     "text": [
      "Cost on training data:  117.00511174050546\n",
      "Cost on testing data:  93.14084852352524\n"
     ]
    }
   ],
   "source": [
    "print(\"Cost on training data: \",cost(X_train,Y_train,m,c))\n",
    "print(\"Cost on testing data: \",cost(X_test,Y_test,m,c))"
   ]
  },
  {
   "cell_type": "code",
   "execution_count": null,
   "id": "16450886",
   "metadata": {},
   "outputs": [],
   "source": []
  }
 ],
 "metadata": {
  "kernelspec": {
   "display_name": "Python 3 (ipykernel)",
   "language": "python",
   "name": "python3"
  },
  "language_info": {
   "codemirror_mode": {
    "name": "ipython",
    "version": 3
   },
   "file_extension": ".py",
   "mimetype": "text/x-python",
   "name": "python",
   "nbconvert_exporter": "python",
   "pygments_lexer": "ipython3",
   "version": "3.9.12"
  }
 },
 "nbformat": 4,
 "nbformat_minor": 5
}
