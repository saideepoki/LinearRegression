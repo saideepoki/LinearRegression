{
 "cells": [
  {
   "cell_type": "markdown",
   "id": "6e86e162",
   "metadata": {},
   "source": [
    "# Sk learn implementation"
   ]
  },
  {
   "cell_type": "code",
   "execution_count": 3,
   "id": "bb520c74",
   "metadata": {},
   "outputs": [],
   "source": [
    "import numpy as np\n",
    "import pandas as pd"
   ]
  },
  {
   "cell_type": "code",
   "execution_count": 11,
   "id": "40459617",
   "metadata": {},
   "outputs": [
    {
     "data": {
      "text/html": [
       "<div>\n",
       "<style scoped>\n",
       "    .dataframe tbody tr th:only-of-type {\n",
       "        vertical-align: middle;\n",
       "    }\n",
       "\n",
       "    .dataframe tbody tr th {\n",
       "        vertical-align: top;\n",
       "    }\n",
       "\n",
       "    .dataframe thead th {\n",
       "        text-align: right;\n",
       "    }\n",
       "</style>\n",
       "<table border=\"1\" class=\"dataframe\">\n",
       "  <thead>\n",
       "    <tr style=\"text-align: right;\">\n",
       "      <th></th>\n",
       "      <th>0</th>\n",
       "      <th>1</th>\n",
       "    </tr>\n",
       "  </thead>\n",
       "  <tbody>\n",
       "    <tr>\n",
       "      <th>0</th>\n",
       "      <td>32.502345</td>\n",
       "      <td>31.707006</td>\n",
       "    </tr>\n",
       "    <tr>\n",
       "      <th>1</th>\n",
       "      <td>53.426804</td>\n",
       "      <td>68.777596</td>\n",
       "    </tr>\n",
       "    <tr>\n",
       "      <th>2</th>\n",
       "      <td>61.530358</td>\n",
       "      <td>62.562382</td>\n",
       "    </tr>\n",
       "    <tr>\n",
       "      <th>3</th>\n",
       "      <td>47.475640</td>\n",
       "      <td>71.546632</td>\n",
       "    </tr>\n",
       "    <tr>\n",
       "      <th>4</th>\n",
       "      <td>59.813208</td>\n",
       "      <td>87.230925</td>\n",
       "    </tr>\n",
       "  </tbody>\n",
       "</table>\n",
       "</div>"
      ],
      "text/plain": [
       "           0          1\n",
       "0  32.502345  31.707006\n",
       "1  53.426804  68.777596\n",
       "2  61.530358  62.562382\n",
       "3  47.475640  71.546632\n",
       "4  59.813208  87.230925"
      ]
     },
     "execution_count": 11,
     "metadata": {},
     "output_type": "execute_result"
    }
   ],
   "source": [
    "data1 = np.loadtxt(r\"C:\\Users\\Saideep\\Downloads\\data.csv\",delimiter = \",\")\n",
    "data2 = pd.DataFrame(data1)\n",
    "data2.head()\n",
    "## later we cant use data2 as we'd have to reshape into 2d array and only array can be reshaped not a dataframe that's why we loaded the data using numpy"
   ]
  },
  {
   "cell_type": "code",
   "execution_count": 12,
   "id": "cd10a8ba",
   "metadata": {},
   "outputs": [],
   "source": [
    "X = data1[:,0].reshape(-1,1)\n",
    "Y = data1[:,1]"
   ]
  },
  {
   "cell_type": "code",
   "execution_count": 14,
   "id": "98ab693a",
   "metadata": {},
   "outputs": [],
   "source": [
    "from sklearn import model_selection"
   ]
  },
  {
   "cell_type": "code",
   "execution_count": 15,
   "id": "d397760b",
   "metadata": {},
   "outputs": [],
   "source": [
    "X_train,X_test,Y_train,Y_test = model_selection.train_test_split(X,Y)"
   ]
  },
  {
   "cell_type": "code",
   "execution_count": 17,
   "id": "0c727c70",
   "metadata": {},
   "outputs": [],
   "source": [
    "from sklearn.linear_model import LinearRegression"
   ]
  },
  {
   "cell_type": "code",
   "execution_count": 19,
   "id": "9dd88ad7",
   "metadata": {},
   "outputs": [
    {
     "data": {
      "text/plain": [
       "LinearRegression()"
      ]
     },
     "execution_count": 19,
     "metadata": {},
     "output_type": "execute_result"
    }
   ],
   "source": [
    "algo = LinearRegression()\n",
    "algo.fit(X_train,Y_train)"
   ]
  },
  {
   "cell_type": "markdown",
   "id": "1d58c34b",
   "metadata": {},
   "source": [
    "# after fitting the data we'll have the best fit line i.e coefficients and intercepts"
   ]
  },
  {
   "cell_type": "code",
   "execution_count": 20,
   "id": "a999ae8b",
   "metadata": {},
   "outputs": [
    {
     "data": {
      "text/plain": [
       "array([1.25127112])"
      ]
     },
     "execution_count": 20,
     "metadata": {},
     "output_type": "execute_result"
    }
   ],
   "source": [
    "algo.coef_"
   ]
  },
  {
   "cell_type": "code",
   "execution_count": 21,
   "id": "450c6a4a",
   "metadata": {},
   "outputs": [
    {
     "data": {
      "text/plain": [
       "10.984168767403979"
      ]
     },
     "execution_count": 21,
     "metadata": {},
     "output_type": "execute_result"
    }
   ],
   "source": [
    "algo.intercept_"
   ]
  },
  {
   "cell_type": "code",
   "execution_count": 22,
   "id": "92d7ceab",
   "metadata": {},
   "outputs": [],
   "source": [
    "import matplotlib.pyplot as plt"
   ]
  },
  {
   "cell_type": "markdown",
   "id": "61e46738",
   "metadata": {},
   "source": [
    "# Scattering the training data"
   ]
  },
  {
   "cell_type": "code",
   "execution_count": 29,
   "id": "0e4134dc",
   "metadata": {},
   "outputs": [
    {
     "data": {
      "image/png": "[encoded data removed]",
      "text/plain": [
       "<Figure size 432x288 with 1 Axes>"
      ]
     },
     "metadata": {
      "needs_background": "light"
     },
     "output_type": "display_data"
    }
   ],
   "source": [
    "m = algo.coef_[0]\n",
    "c = algo.intercept_\n",
    "\n",
    "X_line = np.arange(30,80,0.1)\n",
    "Y_line = X_line*m + c\n",
    "plt.plot(X_line,Y_line,\"r\")\n",
    "X_train_plot = X_train.reshape(75)\n",
    "plt.scatter(X_train_plot,Y_train)\n",
    "plt.show()"
   ]
  },
  {
   "cell_type": "markdown",
   "id": "17868151",
   "metadata": {},
   "source": [
    "# Scattering the testing points"
   ]
  },
  {
   "cell_type": "code",
   "execution_count": 32,
   "id": "6bde2298",
   "metadata": {},
   "outputs": [
    {
     "data": {
      "image/png": "[encoded data removed]",
      "text/plain": [
       "<Figure size 432x288 with 1 Axes>"
      ]
     },
     "metadata": {
      "needs_background": "light"
     },
     "output_type": "display_data"
    }
   ],
   "source": [
    "plt.plot(X_line,Y_line,\"r\")\n",
    "X_test_plot = X_test.reshape(25)\n",
    "plt.scatter(X_test_plot,Y_test)\n",
    "plt.show()"
   ]
  },
  {
   "cell_type": "markdown",
   "id": "1c9cfc26",
   "metadata": {},
   "source": [
    "# Coefficient of determination (Score)"
   ]
  },
  {
   "cell_type": "code",
   "execution_count": 33,
   "id": "10b504e4",
   "metadata": {},
   "outputs": [
    {
     "data": {
      "text/plain": [
       "(0.5790885225497648, 0.6360010153494613)"
      ]
     },
     "execution_count": 33,
     "metadata": {},
     "output_type": "execute_result"
    }
   ],
   "source": [
    "score_train = algo.score(X_train, Y_train)\n",
    "score_test = algo.score(X_test,Y_test)\n",
    "score_train,score_test"
   ]
  },
  {
   "cell_type": "code",
   "execution_count": null,
   "id": "ae213406",
   "metadata": {},
   "outputs": [],
   "source": []
  },
  {
   "cell_type": "code",
   "execution_count": null,
   "id": "a7fa4feb",
   "metadata": {},
   "outputs": [],
   "source": []
  }
 ],
 "metadata": {
  "kernelspec": {
   "display_name": "Python 3 (ipykernel)",
   "language": "python",
   "name": "python3"
  },
  "language_info": {
   "codemirror_mode": {
    "name": "ipython",
    "version": 3
   },
   "file_extension": ".py",
   "mimetype": "text/x-python",
   "name": "python",
   "nbconvert_exporter": "python",
   "pygments_lexer": "ipython3",
   "version": "3.9.12"
  }
 },
 "nbformat": 4,
 "nbformat_minor": 5
}
